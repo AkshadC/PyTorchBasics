{
 "cells": [
  {
   "metadata": {},
   "cell_type": "code",
   "outputs": [],
   "execution_count": null,
   "source": [
    "import torch                                        # root package\n",
    "\n",
    "from torch.utils.data import Dataset, DataLoader    # dataset representation and loading"
   ],
   "id": "47bdb0f7c4662da0"
  },
  {
   "metadata": {},
   "cell_type": "code",
   "outputs": [],
   "execution_count": null,
   "source": [
    "import torch.autograd as autograd         # computation graph\n",
    "from torch import Tensor                  # tensor node in the computation graph\n",
    "import torch.nn as nn                     # neural networks\n",
    "import torch.nn.functional as F           # layers, activations and more\n",
    "import torch.optim as optim               # optimizers e.g. gradient descent, ADAM, etc.\n",
    "from torch.jit import script, trace       # hybrid frontend decorator and tracing jit"
   ],
   "id": "d3c7f6b8a49dcd8"
  },
  {
   "metadata": {},
   "cell_type": "code",
   "outputs": [],
   "execution_count": null,
   "source": [
    "x = torch.randn(*size)              # tensor with independent N(0,1) entries\n",
    "x = torch.[ones|zeros](*size)       # tensor with all 1's [or 0's]\n",
    "x = torch.tensor(L)                 # create tensor from [nested] list or ndarray L\n",
    "y = x.clone()                       # clone of x\n",
    "with torch.no_grad():               # code wrap that stops autograd from tracking tensor history\n",
    "requires_grad=True                  # arg, when set to True, tracks computation\n",
    "                                    # history for future derivative calculations"
   ],
   "id": "95e073e2bde3a34d"
  },
  {
   "metadata": {},
   "cell_type": "markdown",
   "source": "Tensor Creation",
   "id": "a6d66bb8f757eb1"
  },
  {
   "metadata": {},
   "cell_type": "code",
   "outputs": [],
   "execution_count": null,
   "source": [
    "x.size()                                  # return tuple-like object of dimensions\n",
    "x = torch.cat(tensor_seq, dim=0)          # concatenates tensors along dim\n",
    "y = x.view(a,b,...)                       # reshapes x into size (a,b,...)\n",
    "y = x.view(-1,a)                          # reshapes x into size (b,a) for some b\n",
    "y = x.transpose(a,b)                      # swaps dimensions a and b\n",
    "y = x.permute(*dims)                      # permutes dimensions\n",
    "y = x.unsqueeze(dim)                      # tensor with added axis\n",
    "y = x.unsqueeze(dim=2)                    # (a,b,c) tensor -> (a,b,1,c) tensor\n",
    "y = x.squeeze()                           # removes all dimensions of size 1 (a,1,b,1) -> (a,b)\n",
    "y = x.squeeze(dim=1)                      # removes specified dimension of size 1 (a,1,b,1) -> (a,b,1)"
   ],
   "id": "2909cc7b9472e218"
  },
  {
   "metadata": {},
   "cell_type": "markdown",
   "source": "Tensor Dimensionality",
   "id": "ed4fc4fd495b3a3a"
  },
  {
   "metadata": {},
   "cell_type": "code",
   "outputs": [],
   "execution_count": null,
   "source": [
    "x.size()                                  # return tuple-like object of dimensions\n",
    "x = torch.cat(tensor_seq, dim=0)          # concatenates tensors along dim\n",
    "y = x.view(a,b,...)                       # reshapes x into size (a,b,...)\n",
    "y = x.view(-1,a)                          # reshapes x into size (b,a) for some b\n",
    "y = x.transpose(a,b)                      # swaps dimensions a and b\n",
    "y = x.permute(*dims)                      # permutes dimensions\n",
    "y = x.unsqueeze(dim)                      # tensor with added axis\n",
    "y = x.unsqueeze(dim=2)                    # (a,b,c) tensor -> (a,b,1,c) tensor\n",
    "y = x.squeeze()                           # removes all dimensions of size 1 (a,1,b,1) -> (a,b)\n",
    "y = x.squeeze(dim=1)                      # removes specified dimension of size 1 (a,1,b,1) -> (a,b,1)"
   ],
   "id": "9607a77b41cb5b77"
  },
  {
   "metadata": {},
   "cell_type": "markdown",
   "source": "Tensor Algebra",
   "id": "9001c8d0d6871eed"
  },
  {
   "metadata": {},
   "cell_type": "code",
   "outputs": [],
   "execution_count": null,
   "source": [
    "ret = A.mm(B)       # matrix multiplication\n",
    "ret = A.mv(x)       # matrix-vector multiplication\n",
    "x = x.t()           # matrix transpose"
   ],
   "id": "52e6e6c45ea3c3e0"
  },
  {
   "metadata": {},
   "cell_type": "markdown",
   "source": "Torch Gpu Management",
   "id": "8643d6dfe1a0ef15"
  },
  {
   "metadata": {},
   "cell_type": "code",
   "outputs": [],
   "execution_count": null,
   "source": [
    "torch.cuda.is_available                                     # check for cuda\n",
    "x = x.cuda()                                                # move x's data from\n",
    "                                                            # CPU to GPU and return new object\n",
    "\n",
    "x = x.cpu()                                                 # move x's data from GPU to CPU\n",
    "                                                            # and return new object\n",
    "\n",
    "if not args.disable_cuda and torch.cuda.is_available():     # device agnostic code\n",
    "    args.device = torch.device('cuda')                      # and modularity\n",
    "else:                                                       #\n",
    "    args.device = torch.device('cpu')                       #\n",
    "\n",
    "net.to(device)                                              # recursively convert their\n",
    "                                                            # parameters and buffers to\n",
    "                                                            # device specific tensors\n",
    "\n",
    "x = x.to(device)                                            # copy your tensors to a device\n",
    "                                                            # (gpu, cpu)"
   ],
   "id": "7a55610783fd1b5f"
  }
 ],
 "metadata": {
  "kernelspec": {
   "display_name": "Python 3",
   "language": "python",
   "name": "python3"
  },
  "language_info": {
   "codemirror_mode": {
    "name": "ipython",
    "version": 2
   },
   "file_extension": ".py",
   "mimetype": "text/x-python",
   "name": "python",
   "nbconvert_exporter": "python",
   "pygments_lexer": "ipython2",
   "version": "2.7.6"
  }
 },
 "nbformat": 4,
 "nbformat_minor": 5
}
